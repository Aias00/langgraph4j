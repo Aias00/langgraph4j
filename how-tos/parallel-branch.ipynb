{
 "cells": [
  {
   "cell_type": "markdown",
   "metadata": {},
   "source": [
    "# How to create branches for parallel node execution\n",
    "\n",
    "LangGraph4j lets you run nodes in parallel to speed up your total graph execution.\n",
    "\n",
    "Currently there are some limitations on parallel execution:\n",
    "\n",
    " \n",
    "* Only the **Fork-Join** model is supported\n",
    " \n",
    "  > ```\n",
    "  >        ┌─┐       \n",
    "  >        │A│       \n",
    "  >        └─┘       \n",
    "  >         |        \n",
    "  >   ┌-----------┐  \n",
    "  >   |     |     |  \n",
    "  > ┌──┐  ┌──┐  ┌──┐ \n",
    "  > │A1│  │A2│  │A3│ \n",
    "  > └──┘  └──┘  └──┘ \n",
    "  >   |     |     |  \n",
    "  >   └-----------┘  \n",
    "  >         |        \n",
    "  >        ┌─┐       \n",
    "  >        │B│       \n",
    "  >        └─┘       \n",
    "  >   ```\n",
    "* No **Conditional Edges** are allowed\n",
    "  \n",
    "Below are some examples showing how to add create branching dataflows that work for you.\n"
   ]
  },
  {
   "cell_type": "code",
   "execution_count": 1,
   "metadata": {},
   "outputs": [],
   "source": [
    "var userHomeDir = System.getProperty(\"user.home\");\n",
    "var localRespoUrl = \"file://\" + userHomeDir + \"/.m2/repository/\";\n",
    "var langchain4jVersion = \"1.0.0-beta2\";\n",
    "var langgraph4jVersion = \"1.5-SNAPSHOT\";"
   ]
  },
  {
   "cell_type": "code",
   "execution_count": 2,
   "metadata": {},
   "outputs": [],
   "source": [
    "%%bash \n",
    "rm -rf \\{userHomeDir}/Library/Jupyter/kernels/rapaio-jupyter-kernel/mima_cache/org/bsc/langgraph4j"
   ]
  },
  {
   "cell_type": "code",
   "execution_count": 3,
   "metadata": {},
   "outputs": [
    {
     "name": "stdout",
     "output_type": "stream",
     "text": [
      "\u001b[0mRepository \u001b[1m\u001b[32mlocal\u001b[0m url: \u001b[1m\u001b[32mfile:///Users/bsorrentino/.m2/repository/\u001b[0m added.\n",
      "\u001b[0mAdding dependency \u001b[0m\u001b[1m\u001b[32morg.slf4j:slf4j-jdk14:2.0.9\n",
      "\u001b[0mAdding dependency \u001b[0m\u001b[1m\u001b[32morg.bsc.langgraph4j:langgraph4j-core:1.4-SNAPSHOT\n",
      "\u001b[0mAdding dependency \u001b[0m\u001b[1m\u001b[32morg.bsc.langgraph4j:langgraph4j-langchain4j:1.4-SNAPSHOT\n",
      "\u001b[0mAdding dependency \u001b[0m\u001b[1m\u001b[32mdev.langchain4j:langchain4j:1.0.0-beta2\n",
      "\u001b[0mAdding dependency \u001b[0m\u001b[1m\u001b[32mdev.langchain4j:langchain4j-open-ai:1.0.0-beta2\n",
      "\u001b[0mAdding dependency \u001b[0m\u001b[1m\u001b[32mnet.sourceforge.plantuml:plantuml-mit:1.2024.8\n",
      "\u001b[0mSolving dependencies\n",
      "Resolved artifacts count: 17\n",
      "Add to classpath: \u001b[0m\u001b[32m/Users/bsorrentino/Library/Jupyter/kernels/rapaio-jupyter-kernel/mima_cache/org/slf4j/slf4j-jdk14/2.0.9/slf4j-jdk14-2.0.9.jar\u001b[0m\n",
      "\u001b[0mAdd to classpath: \u001b[0m\u001b[32m/Users/bsorrentino/Library/Jupyter/kernels/rapaio-jupyter-kernel/mima_cache/org/slf4j/slf4j-api/2.0.9/slf4j-api-2.0.9.jar\u001b[0m\n",
      "\u001b[0mAdd to classpath: \u001b[0m\u001b[32m/Users/bsorrentino/Library/Jupyter/kernels/rapaio-jupyter-kernel/mima_cache/org/bsc/langgraph4j/langgraph4j-core/1.4-SNAPSHOT/langgraph4j-core-1.4-SNAPSHOT.jar\u001b[0m\n",
      "\u001b[0mAdd to classpath: \u001b[0m\u001b[32m/Users/bsorrentino/Library/Jupyter/kernels/rapaio-jupyter-kernel/mima_cache/org/bsc/async/async-generator/3.0.0/async-generator-3.0.0.jar\u001b[0m\n",
      "\u001b[0mAdd to classpath: \u001b[0m\u001b[32m/Users/bsorrentino/Library/Jupyter/kernels/rapaio-jupyter-kernel/mima_cache/org/bsc/langgraph4j/langgraph4j-langchain4j/1.4-SNAPSHOT/langgraph4j-langchain4j-1.4-SNAPSHOT.jar\u001b[0m\n",
      "\u001b[0mAdd to classpath: \u001b[0m\u001b[32m/Users/bsorrentino/Library/Jupyter/kernels/rapaio-jupyter-kernel/mima_cache/dev/langchain4j/langchain4j/1.0.0-beta2/langchain4j-1.0.0-beta2.jar\u001b[0m\n",
      "\u001b[0mAdd to classpath: \u001b[0m\u001b[32m/Users/bsorrentino/Library/Jupyter/kernels/rapaio-jupyter-kernel/mima_cache/dev/langchain4j/langchain4j-core/1.0.0-beta2/langchain4j-core-1.0.0-beta2.jar\u001b[0m\n",
      "\u001b[0mAdd to classpath: \u001b[0m\u001b[32m/Users/bsorrentino/Library/Jupyter/kernels/rapaio-jupyter-kernel/mima_cache/org/jspecify/jspecify/1.0.0/jspecify-1.0.0.jar\u001b[0m\n",
      "\u001b[0mAdd to classpath: \u001b[0m\u001b[32m/Users/bsorrentino/Library/Jupyter/kernels/rapaio-jupyter-kernel/mima_cache/org/apache/opennlp/opennlp-tools/1.9.4/opennlp-tools-1.9.4.jar\u001b[0m\n",
      "\u001b[0mAdd to classpath: \u001b[0m\u001b[32m/Users/bsorrentino/Library/Jupyter/kernels/rapaio-jupyter-kernel/mima_cache/dev/langchain4j/langchain4j-open-ai/1.0.0-beta2/langchain4j-open-ai-1.0.0-beta2.jar\u001b[0m\n",
      "\u001b[0mAdd to classpath: \u001b[0m\u001b[32m/Users/bsorrentino/Library/Jupyter/kernels/rapaio-jupyter-kernel/mima_cache/dev/langchain4j/langchain4j-http-client-jdk/1.0.0-beta2/langchain4j-http-client-jdk-1.0.0-beta2.jar\u001b[0m\n",
      "\u001b[0mAdd to classpath: \u001b[0m\u001b[32m/Users/bsorrentino/Library/Jupyter/kernels/rapaio-jupyter-kernel/mima_cache/dev/langchain4j/langchain4j-http-client/1.0.0-beta2/langchain4j-http-client-1.0.0-beta2.jar\u001b[0m\n",
      "\u001b[0mAdd to classpath: \u001b[0m\u001b[32m/Users/bsorrentino/Library/Jupyter/kernels/rapaio-jupyter-kernel/mima_cache/com/fasterxml/jackson/core/jackson-databind/2.18.2/jackson-databind-2.18.2.jar\u001b[0m\n",
      "\u001b[0mAdd to classpath: \u001b[0m\u001b[32m/Users/bsorrentino/Library/Jupyter/kernels/rapaio-jupyter-kernel/mima_cache/com/fasterxml/jackson/core/jackson-annotations/2.18.2/jackson-annotations-2.18.2.jar\u001b[0m\n",
      "\u001b[0mAdd to classpath: \u001b[0m\u001b[32m/Users/bsorrentino/Library/Jupyter/kernels/rapaio-jupyter-kernel/mima_cache/com/fasterxml/jackson/core/jackson-core/2.18.2/jackson-core-2.18.2.jar\u001b[0m\n",
      "\u001b[0mAdd to classpath: \u001b[0m\u001b[32m/Users/bsorrentino/Library/Jupyter/kernels/rapaio-jupyter-kernel/mima_cache/com/knuddels/jtokkit/1.1.0/jtokkit-1.1.0.jar\u001b[0m\n",
      "\u001b[0mAdd to classpath: \u001b[0m\u001b[32m/Users/bsorrentino/Library/Jupyter/kernels/rapaio-jupyter-kernel/mima_cache/net/sourceforge/plantuml/plantuml-mit/1.2024.8/plantuml-mit-1.2024.8.jar\u001b[0m\n",
      "\u001b[0m"
     ]
    }
   ],
   "source": [
    "%dependency /add-repo local \\{localRespoUrl} release|never snapshot|always\n",
    "// %dependency /list-repos\n",
    "%dependency /add org.slf4j:slf4j-jdk14:2.0.9\n",
    "%dependency /add org.bsc.langgraph4j:langgraph4j-core:\\{langgraph4jVersion}\n",
    "%dependency /add org.bsc.langgraph4j:langgraph4j-langchain4j:\\{langgraph4jVersion}\n",
    "%dependency /add dev.langchain4j:langchain4j:\\{langchain4jVersion}\n",
    "%dependency /add dev.langchain4j:langchain4j-open-ai:\\{langchain4jVersion}\n",
    "%dependency /add net.sourceforge.plantuml:plantuml-mit:1.2024.8\n",
    "\n",
    "%dependency /resolve"
   ]
  },
  {
   "cell_type": "code",
   "execution_count": 4,
   "metadata": {},
   "outputs": [],
   "source": [
    "try( var file = new java.io.FileInputStream(\"./logging.properties\")) {\n",
    "    var lm = java.util.logging.LogManager.getLogManager();\n",
    "    lm.checkAccess(); \n",
    "    lm.readConfiguration( file );\n",
    "}"
   ]
  },
  {
   "cell_type": "code",
   "execution_count": 5,
   "metadata": {},
   "outputs": [],
   "source": [
    "import net.sourceforge.plantuml.SourceStringReader;\n",
    "import net.sourceforge.plantuml.FileFormatOption;\n",
    "import net.sourceforge.plantuml.FileFormat;\n",
    "\n",
    "java.awt.Image plantUML2PNG( String code ) throws IOException { \n",
    "    var reader = new SourceStringReader(code);\n",
    "\n",
    "    try(var imageOutStream = new java.io.ByteArrayOutputStream()) {\n",
    "\n",
    "        var description = reader.outputImage( imageOutStream, 0, new FileFormatOption(FileFormat.PNG));\n",
    "\n",
    "        var imageInStream = new java.io.ByteArrayInputStream(  imageOutStream.toByteArray() );\n",
    "\n",
    "        return javax.imageio.ImageIO.read( imageInStream );\n",
    "\n",
    "    }\n",
    "}"
   ]
  },
  {
   "cell_type": "markdown",
   "metadata": {},
   "source": [
    "## Define Graph with parallel branch"
   ]
  },
  {
   "cell_type": "code",
   "execution_count": 6,
   "metadata": {},
   "outputs": [],
   "source": [
    "import org.bsc.langgraph4j.prebuilt.MessagesStateGraph;\n",
    "import org.bsc.langgraph4j.prebuilt.MessagesState;\n",
    "import org.bsc.langgraph4j.action.AsyncNodeAction;\n",
    "import static org.bsc.langgraph4j.action.AsyncNodeAction.node_async;\n",
    "import static org.bsc.langgraph4j.StateGraph.END;\n",
    "import static org.bsc.langgraph4j.StateGraph.START;\n",
    "\n",
    "AsyncNodeAction<MessagesState<String>> makeNode( String message ) {\n",
    "    return node_async(state -> Map.of( \"messages\", message ) );\n",
    "}\n",
    "\n",
    "var workflow = new MessagesStateGraph<String>()\n",
    "                .addNode(\"A\", makeNode(\"A\"))\n",
    "                .addNode(\"A1\", makeNode(\"A1\"))\n",
    "                .addNode(\"A2\", makeNode(\"A2\"))\n",
    "                .addNode(\"A3\", makeNode(\"A3\"))\n",
    "                .addNode(\"B\", makeNode(\"B\"))\n",
    "                .addNode(\"C\", makeNode(\"C\"))\n",
    "                .addEdge(\"A\", \"A1\")\n",
    "                .addEdge(\"A\", \"A2\")\n",
    "                .addEdge(\"A\", \"A3\")\n",
    "                .addEdge(\"A1\", \"B\")\n",
    "                .addEdge(\"A2\", \"B\")\n",
    "                .addEdge(\"A3\", \"B\")\n",
    "                .addEdge(\"B\", \"C\")\n",
    "                .addEdge(START, \"A\")\n",
    "                .addEdge(\"C\", END)                   \n",
    "                .compile();\n"
   ]
  },
  {
   "cell_type": "markdown",
   "metadata": {},
   "source": [
    "## Print graph representation"
   ]
  },
  {
   "cell_type": "code",
   "execution_count": 7,
   "metadata": {},
   "outputs": [
    {
     "data": {
      "image/png": "[encoded data removed]"
     },
     "metadata": {},
     "output_type": "display_data"
    },
    {
     "data": {
      "text/plain": [
       "c68bdf54-7157-46d3-9a01-39202a6c47d9"
      ]
     },
     "execution_count": 7,
     "metadata": {},
     "output_type": "execute_result"
    }
   ],
   "source": [
    "import org.bsc.langgraph4j.GraphRepresentation;\n",
    "\n",
    "var representation = workflow.getGraph( GraphRepresentation.Type.PLANTUML, \"parallel branch\",false );\n",
    "\n",
    "display( plantUML2PNG( representation.getContent() ) )"
   ]
  },
  {
   "cell_type": "code",
   "execution_count": 8,
   "metadata": {},
   "outputs": [
    {
     "name": "stderr",
     "output_type": "stream",
     "text": [
      "START \n"
     ]
    },
    {
     "name": "stdout",
     "output_type": "stream",
     "text": [
      "NodeOutput{node=__START__, state={messages=[]}}\n",
      "NodeOutput{node=A, state={messages=[A]}}\n",
      "NodeOutput{node=__PARALLEL__(A), state={messages=[A, A1, A2, A3]}}\n",
      "NodeOutput{node=B, state={messages=[A, A1, A2, A3, B]}}\n",
      "NodeOutput{node=C, state={messages=[A, A1, A2, A3, B, C]}}\n",
      "NodeOutput{node=__END__, state={messages=[A, A1, A2, A3, B, C]}}\n"
     ]
    }
   ],
   "source": [
    "for( var step : workflow.stream( Map.of() ) ) {\n",
    "    System.out.println( step );\n",
    "}"
   ]
  },
  {
   "cell_type": "code",
   "execution_count": 9,
   "metadata": {},
   "outputs": [],
   "source": [
    "import org.bsc.langgraph4j.prebuilt.MessagesStateGraph;\n",
    "import org.bsc.langgraph4j.prebuilt.MessagesState;\n",
    "import org.bsc.langgraph4j.action.AsyncNodeAction;\n",
    "import static org.bsc.langgraph4j.action.AsyncNodeAction.node_async;\n",
    "import static org.bsc.langgraph4j.action.AsyncEdgeAction.edge_async;\n",
    "import static org.bsc.langgraph4j.StateGraph.END;\n",
    "import static org.bsc.langgraph4j.StateGraph.START;\n",
    "\n",
    "AsyncNodeAction<MessagesState<String>> makeNode( String message ) {\n",
    "    return node_async(state -> Map.of( \"messages\", message ) );\n",
    "}\n",
    "\n",
    "var workflow = new MessagesStateGraph<String>()\n",
    "                .addNode(\"A\", makeNode(\"A\"))\n",
    "                .addNode(\"A1\", makeNode(\"A1\"))\n",
    "                .addNode(\"A2\", makeNode(\"A2\"))\n",
    "                .addNode(\"A3\", makeNode(\"A3\"))\n",
    "                .addNode(\"B\", makeNode(\"B\"))\n",
    "                .addNode(\"C\", makeNode(\"C\"))\n",
    "                .addEdge(\"A\", \"A1\")\n",
    "                .addEdge(\"A\", \"A2\")\n",
    "                .addEdge(\"A\", \"A3\")\n",
    "                .addEdge(\"A1\", \"B\")\n",
    "                .addEdge(\"A2\", \"B\")\n",
    "                .addEdge(\"A3\", \"B\")\n",
    "                // .addEdge(\"B\", \"C\")\n",
    "                .addConditionalEdges( \"B\", \n",
    "                    edge_async( state -> \n",
    "                        state.lastMinus(1) \n",
    "                            .filter( m -> Objects.equals(m,\"A1\"))\n",
    "                            .map( m -> \"continue\" )\n",
    "                            .orElse(\"back\") ), \n",
    "                    Map.of( \"back\", \"A1\", \"continue\", \"C\")\n",
    "                 )\n",
    "                .addEdge(START, \"A\")\n",
    "                .addEdge(\"C\", END)                   \n",
    "                .compile();\n"
   ]
  },
  {
   "cell_type": "code",
   "execution_count": 10,
   "metadata": {},
   "outputs": [
    {
     "data": {
      "image/png": "[encoded data removed]"
     },
     "metadata": {},
     "output_type": "display_data"
    },
    {
     "data": {
      "text/plain": [
       "4c9ed675-b909-49c9-90e7-253297ca86c9"
      ]
     },
     "execution_count": 10,
     "metadata": {},
     "output_type": "execute_result"
    }
   ],
   "source": [
    "import org.bsc.langgraph4j.GraphRepresentation;\n",
    "\n",
    "var representation = workflow.getGraph( GraphRepresentation.Type.PLANTUML, \"parallel branch\",false );\n",
    "\n",
    "display( plantUML2PNG( representation.getContent() ) )"
   ]
  },
  {
   "cell_type": "code",
   "execution_count": 11,
   "metadata": {},
   "outputs": [
    {
     "name": "stderr",
     "output_type": "stream",
     "text": [
      "START \n"
     ]
    },
    {
     "name": "stdout",
     "output_type": "stream",
     "text": [
      "NodeOutput{node=__START__, state={messages=[]}}\n",
      "NodeOutput{node=A, state={messages=[A]}}\n",
      "NodeOutput{node=__PARALLEL__(A), state={messages=[A, A1, A2, A3]}}\n",
      "NodeOutput{node=B, state={messages=[A, A1, A2, A3, B]}}\n",
      "NodeOutput{node=A1, state={messages=[A, A1, A2, A3, B, A1]}}\n",
      "NodeOutput{node=B, state={messages=[A, A1, A2, A3, B, A1, B]}}\n",
      "NodeOutput{node=C, state={messages=[A, A1, A2, A3, B, A1, B, C]}}\n",
      "NodeOutput{node=__END__, state={messages=[A, A1, A2, A3, B, A1, B, C]}}\n"
     ]
    }
   ],
   "source": [
    "for( var step : workflow.stream( Map.of() ) ) {\n",
    "    System.out.println( step );\n",
    "}"
   ]
  }
 ],
 "metadata": {
  "kernelspec": {
   "display_name": "Java (rjk 2.2.0)",
   "language": "java",
   "name": "rapaio-jupyter-kernel"
  },
  "language_info": {
   "codemirror_mode": "java",
   "file_extension": ".jshell",
   "mimetype": "text/x-java-source",
   "name": "java",
   "nbconvert_exporter": "script",
   "pygments_lexer": "java",
   "version": "17.0.2+8-86"
  }
 },
 "nbformat": 4,
 "nbformat_minor": 2
}
