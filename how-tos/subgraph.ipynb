{
 "cells": [
  {
   "cell_type": "markdown",
   "metadata": {},
   "source": [
    "# Sub-graph sample"
   ]
  },
  {
   "cell_type": "code",
   "execution_count": null,
   "metadata": {},
   "outputs": [],
   "source": [
    "var userHomeDir = System.getProperty(\"user.home\");\n",
    "var localRespoUrl = \"file://\" + userHomeDir + \"/.m2/repository/\";\n",
    "var langchain4jVersion = \"0.36.2\";\n",
    "var langgraph4jVersion = \"1.4-SNAPSHOT\";"
   ]
  },
  {
   "cell_type": "code",
   "execution_count": null,
   "metadata": {},
   "outputs": [],
   "source": [
    "%%bash \n",
    "rm -rf \\{userHomeDir}/Library/Jupyter/kernels/rapaio-jupyter-kernel/mima_cache/org/bsc/langgraph4j"
   ]
  },
  {
   "cell_type": "code",
   "execution_count": null,
   "metadata": {},
   "outputs": [],
   "source": [
    "%dependency /add-repo local \\{localRespoUrl} release|never snapshot|always\n",
    "// %dependency /list-repos\n",
    "%dependency /add org.slf4j:slf4j-jdk14:2.0.9\n",
    "%dependency /add org.bsc.langgraph4j:langgraph4j-core:\\{langgraph4jVersion}\n",
    "%dependency /add org.bsc.langgraph4j:langgraph4j-langchain4j:\\{langgraph4jVersion}\n",
    "%dependency /add dev.langchain4j:langchain4j:\\{langchain4jVersion}\n",
    "%dependency /add dev.langchain4j:langchain4j-open-ai:\\{langchain4jVersion}\n",
    "%dependency /add net.sourceforge.plantuml:plantuml-mit:1.2024.8\n",
    "\n",
    "%dependency /resolve"
   ]
  },
  {
   "cell_type": "code",
   "execution_count": null,
   "metadata": {},
   "outputs": [],
   "source": [
    "import net.sourceforge.plantuml.SourceStringReader;\n",
    "import net.sourceforge.plantuml.FileFormatOption;\n",
    "import net.sourceforge.plantuml.FileFormat;\n",
    "import org.bsc.langgraph4j.GraphRepresentation;\n",
    "\n",
    "void displayDiagram( GraphRepresentation representation ) throws IOException { \n",
    "    \n",
    "    var reader = new SourceStringReader(representation.getContent());\n",
    "\n",
    "    try(var imageOutStream = new java.io.ByteArrayOutputStream()) {\n",
    "\n",
    "        var description = reader.outputImage( imageOutStream, 0, new FileFormatOption(FileFormat.PNG));\n",
    "\n",
    "        var imageInStream = new java.io.ByteArrayInputStream(  imageOutStream.toByteArray() );\n",
    "\n",
    "        var image = javax.imageio.ImageIO.read( imageInStream );\n",
    "\n",
    "        display(  image );\n",
    "\n",
    "    }\n",
    "}"
   ]
  },
  {
   "cell_type": "markdown",
   "metadata": {},
   "source": [
    "**Graph State**"
   ]
  },
  {
   "cell_type": "code",
   "execution_count": null,
   "metadata": {},
   "outputs": [],
   "source": [
    "import org.bsc.langgraph4j.prebuilt.MessagesState;\n",
    "import org.bsc.langgraph4j.state.Channel;\n",
    "import org.bsc.langgraph4j.state.AppenderChannel;\n",
    "\n",
    "public class State extends MessagesState<String> {\n",
    "\n",
    "    public State(Map<String, Object> initData) {\n",
    "        super( initData  );\n",
    "    }\n",
    "}"
   ]
  },
  {
   "cell_type": "markdown",
   "metadata": {},
   "source": [
    "**Utility function to simplify node creation**"
   ]
  },
  {
   "cell_type": "code",
   "execution_count": null,
   "metadata": {},
   "outputs": [],
   "source": [
    "import org.bsc.langgraph4j.action.AsyncNodeAction;\n",
    "\n",
    "AsyncNodeAction<State> makeNode( String id ) {\n",
    "    return node_async(state ->\n",
    "            Map.of(\"messages\", id)\n",
    "    );\n",
    "}"
   ]
  },
  {
   "cell_type": "code",
   "execution_count": null,
   "metadata": {},
   "outputs": [],
   "source": [
    "import org.bsc.langgraph4j.StateGraph;\n",
    "import org.bsc.langgraph4j.action.AsyncNodeAction;\n",
    "import static org.bsc.langgraph4j.action.AsyncNodeAction.node_async;\n",
    "import static org.bsc.langgraph4j.StateGraph.END;\n",
    "import static org.bsc.langgraph4j.StateGraph.START;\n",
    "\n",
    "var workflowChild = new StateGraph<>(State.SCHEMA, State::new)        \n",
    "                    .addNode(\"child:step_1\", makeNode(\"child:step1\") )\n",
    "                    .addNode(\"child:step_2\", makeNode(\"child:step2\"))\n",
    "                    .addNode(\"child:step_3\", makeNode(\"child:step3\"))\n",
    "                    .addEdge(START, \"child:step_1\")\n",
    "                    .addEdge(\"child:step_1\", \"child:step_2\")\n",
    "                    .addEdge(\"child:step_2\", \"child:step_3\")\n",
    "                    .addEdge(\"child:step_3\", END)\n",
    "                    ;\n",
    "var compiledWorkflowChild = workflowChild.compile();\n",
    "\n",
    "for( var step : compiledWorkflowChild.stream( Map.of() ) ) {\n",
    "    System.out.println( step );\n",
    "}"
   ]
  },
  {
   "cell_type": "markdown",
   "metadata": {},
   "source": [
    "**Create graph with a sub graph**\n",
    "> The subgraph will be executed independently to the parent sharing its state but not `CompileConfig`"
   ]
  },
  {
   "cell_type": "code",
   "execution_count": null,
   "metadata": {},
   "outputs": [],
   "source": [
    "\n",
    "var compiledWorkflow = new StateGraph<>(State.SCHEMA, State::new)        \n",
    "                    .addNode(\"step_1\",  makeNode(\"step1\"))\n",
    "                    .addNode(\"step_2\",  makeNode(\"step2\"))\n",
    "                    .addNode(\"step_3\",  makeNode(\"step3\"))\n",
    "                    .addSubgraph( \"subgraph\", compiledWorkflowChild )\n",
    "                    .addEdge(START, \"step_1\")\n",
    "                    .addEdge(\"step_1\", \"step_2\")\n",
    "                    .addEdge(\"step_2\", \"subgraph\")\n",
    "                    .addEdge(\"subgraph\", \"step_3\")\n",
    "                    .addEdge(\"step_3\", END)\n",
    "                    .compile();\n",
    "\n",
    "for( var step : compiledWorkflow.stream( Map.of() )) {\n",
    "    System.out.println( step );\n",
    "}"
   ]
  },
  {
   "cell_type": "markdown",
   "metadata": {},
   "source": [
    "**Create graph with a sub graph**\n",
    "> The subgraph will be merged to the parent and executed as part of it, sharing its state and also `CompileConfig`"
   ]
  },
  {
   "cell_type": "code",
   "execution_count": null,
   "metadata": {},
   "outputs": [],
   "source": [
    "\n",
    "var workflow = new StateGraph<>(State.SCHEMA, State::new)        \n",
    "                    .addNode(\"step_1\",  makeNode(\"step1\"))\n",
    "                    .addNode(\"step_2\",  makeNode(\"step2\"))\n",
    "                    .addNode(\"step_3\",  makeNode(\"step3\"))\n",
    "                    .addSubgraph( \"subgraph\", workflowChild )\n",
    "                    .addEdge(START, \"step_1\")\n",
    "                    .addEdge(\"step_1\", \"step_2\")\n",
    "                    .addEdge(\"step_2\", \"subgraph\")\n",
    "                    .addEdge(\"subgraph\", \"step_3\")\n",
    "                    .addEdge(\"step_3\", END)\n",
    "                    ;\n",
    "var compiledWorkflow =  workflow.compile();\n",
    "\n",
    "for( var step : compiledWorkflow.stream( Map.of() )) {\n",
    "    System.out.println( step );\n",
    "}"
   ]
  },
  {
   "cell_type": "markdown",
   "metadata": {},
   "source": [
    "**Display StateGraph** as you defined"
   ]
  },
  {
   "cell_type": "code",
   "execution_count": null,
   "metadata": {},
   "outputs": [],
   "source": [
    "var representation = workflow.getGraph( GraphRepresentation.Type.PLANTUML, \"sub graph\", false );\n",
    "\n",
    "displayDiagram( representation );"
   ]
  },
  {
   "cell_type": "markdown",
   "metadata": {},
   "source": [
    "**Display Compiled Graph** result as merged process"
   ]
  },
  {
   "cell_type": "code",
   "execution_count": null,
   "metadata": {},
   "outputs": [],
   "source": [
    "var representation = compiledWorkflow.getGraph( GraphRepresentation.Type.PLANTUML, \"merged sub graph\", false );\n",
    "\n",
    "displayDiagram( representation );"
   ]
  }
 ],
 "metadata": {
  "kernelspec": {
   "display_name": "Java (rjk 2.2.0)",
   "language": "java",
   "name": "rapaio-jupyter-kernel"
  },
  "language_info": {
   "codemirror_mode": "java",
   "file_extension": ".jshell",
   "mimetype": "text/x-java-source",
   "name": "java",
   "nbconvert_exporter": "script",
   "pygments_lexer": "java",
   "version": "17.0.2+8-86"
  }
 },
 "nbformat": 4,
 "nbformat_minor": 2
}
