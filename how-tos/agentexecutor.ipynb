{
 "cells": [
  {
   "cell_type": "markdown",
   "metadata": {},
   "source": [
    "# Agent Executor"
   ]
  },
  {
   "cell_type": "code",
   "execution_count": null,
   "metadata": {},
   "outputs": [],
   "source": [
    "String userHomeDir = System.getProperty(\"user.home\");\n",
    "String localRespoUrl = \"file://\" + userHomeDir + \"/.m2/repository/\";\n",
    "String langchain4jVersion = \"1.0.0-beta2\";\n",
    "String langgraph4jVersion = \"1.4-SNAPSHOT\";"
   ]
  },
  {
   "cell_type": "markdown",
   "metadata": {},
   "source": [
    "Remove installed package from Jupiter cache"
   ]
  },
  {
   "cell_type": "code",
   "execution_count": null,
   "metadata": {},
   "outputs": [],
   "source": [
    "%%bash \n",
    "rm -rf \\{userHomeDir}/Library/Jupyter/kernels/rapaio-jupyter-kernel/mima_cache/org/bsc/langgraph4j"
   ]
  },
  {
   "cell_type": "markdown",
   "metadata": {},
   "source": [
    "add local maven repo and install dependencies"
   ]
  },
  {
   "cell_type": "code",
   "execution_count": null,
   "metadata": {},
   "outputs": [],
   "source": [
    "%dependency /add-repo local \\{localRespoUrl} release|never snapshot|always\n",
    "// %dependency /list-repos\n",
    "%dependency /add org.slf4j:slf4j-jdk14:2.0.9\n",
    "%dependency /add org.bsc.langgraph4j:langgraph4j-core:\\{langgraph4jVersion}\n",
    "%dependency /add org.bsc.langgraph4j:langgraph4j-langchain4j:\\{langgraph4jVersion}\n",
    "%dependency /add org.bsc.langgraph4j:langgraph4j-agent-executor:\\{langgraph4jVersion}\n",
    "%dependency /add dev.langchain4j:langchain4j:\\{langchain4jVersion}\n",
    "%dependency /add dev.langchain4j:langchain4j-open-ai:\\{langchain4jVersion}\n",
    "\n",
    "%dependency /resolve"
   ]
  },
  {
   "cell_type": "markdown",
   "metadata": {},
   "source": [
    "**Initialize Logger**"
   ]
  },
  {
   "cell_type": "code",
   "execution_count": 11,
   "metadata": {},
   "outputs": [],
   "source": [
    "try( var file = new java.io.FileInputStream(\"./logging.properties\")) {\n",
    "    var lm = java.util.logging.LogManager.getLogManager();\n",
    "    lm.checkAccess(); \n",
    "    lm.readConfiguration( file );\n",
    "}\n",
    "\n",
    "var log = org.slf4j.LoggerFactory.getLogger(\"AgentExecutor\");\n"
   ]
  },
  {
   "cell_type": "markdown",
   "metadata": {},
   "source": [
    "Create Tools"
   ]
  },
  {
   "cell_type": "code",
   "execution_count": 12,
   "metadata": {},
   "outputs": [],
   "source": [
    "import dev.langchain4j.agent.tool.P;\n",
    "import dev.langchain4j.agent.tool.Tool;\n",
    "\n",
    "import java.util.Optional;\n",
    "\n",
    "import static java.lang.String.format;\n",
    "\n",
    "public class TestTool {\n",
    "    private String lastResult;\n",
    "\n",
    "    Optional<String> lastResult() {\n",
    "        return Optional.ofNullable(lastResult);\n",
    "    }\n",
    "\n",
    "    @Tool(\"tool for test AI agent executor\")\n",
    "    String execTest(@P(\"test message\") String message) {\n",
    "\n",
    "        lastResult = format( \"test tool executed: %s\", message);\n",
    "        return lastResult;\n",
    "    }\n",
    "}\n"
   ]
  },
  {
   "cell_type": "code",
   "execution_count": 13,
   "metadata": {},
   "outputs": [],
   "source": [
    "import static org.bsc.langgraph4j.StateGraph.END;\n",
    "import static org.bsc.langgraph4j.StateGraph.START;\n",
    "import org.bsc.langgraph4j.CompileConfig;\n",
    "import org.bsc.langgraph4j.RunnableConfig;\n",
    "import org.bsc.langgraph4j.checkpoint.BaseCheckpointSaver;\n",
    "import org.bsc.langgraph4j.checkpoint.MemorySaver;\n",
    "import org.bsc.langgraph4j.state.AgentState;\n",
    "import org.bsc.langgraph4j.serializer.StateSerializer;\n",
    "\n",
    "import org.bsc.langgraph4j.agentexecutor.AgentExecutor;\n",
    "\n",
    "import dev.langchain4j.model.openai.OpenAiChatModel;\n",
    "\n",
    "import java.util.List;\n",
    "import java.util.Map;\n",
    "import java.util.stream.Collectors;\n",
    "\n",
    "\n",
    "\n",
    "var chatLanguageModel = OpenAiChatModel.builder()\n",
    "    .apiKey( System.getenv(\"OPENAI_API_KEY\") )\n",
    "    //.modelName( \"gpt-3.5-turbo-0125\" )\n",
    "    .modelName( \"gpt-4o-mini\" )\n",
    "    .logResponses(true)\n",
    "    .maxRetries(2)\n",
    "    .temperature(0.0)\n",
    "    .maxTokens(2000)\n",
    "    .build();\n",
    "\n",
    "var stateGraph = AgentExecutor.graphBuilder()\n",
    "        .chatLanguageModel(chatLanguageModel)\n",
    "        .objectsWithTools(List.of(new TestTool()))\n",
    "        .build();\n",
    "\n",
    "\n"
   ]
  },
  {
   "cell_type": "markdown",
   "metadata": {},
   "source": [
    "### Test 1 \n",
    "Update State replacing the 'input'"
   ]
  },
  {
   "cell_type": "code",
   "execution_count": 14,
   "metadata": {},
   "outputs": [
    {
     "name": "stderr",
     "output_type": "stream",
     "text": [
      "START \n",
      "callAgent \n",
      "STEP: NodeOutput{node=__START__, state={messages=[UserMessage { name = null contents = [TextContent { text = \"perform test once\" }] }]}} \n",
      "executeTools \n",
      "execute: execTest \n",
      "STEP: StateSnapshot{node=agent, state={messages=[UserMessage { name = null contents = [TextContent { text = \"perform test once\" }] }, AiMessage { text = null toolExecutionRequests = [ToolExecutionRequest { id = \"call_wwsrjq33Z8CU6FDHsq4rSh8s\", name = \"execTest\", arguments = \"{\"message\":\"perform test once\"}\" }] }]}, config=RunnableConfig(threadId=test1, checkPointId=8fae1e0d-9215-4b05-a487-704e88a94863, nextNode=action, streamMode=SNAPSHOTS)} \n",
      "callAgent \n",
      "STEP: StateSnapshot{node=action, state={messages=[UserMessage { name = null contents = [TextContent { text = \"perform test once\" }] }, AiMessage { text = null toolExecutionRequests = [ToolExecutionRequest { id = \"call_wwsrjq33Z8CU6FDHsq4rSh8s\", name = \"execTest\", arguments = \"{\"message\":\"perform test once\"}\" }] }, ToolExecutionResultMessage { id = \"call_wwsrjq33Z8CU6FDHsq4rSh8s\" toolName = \"execTest\" text = \"test tool executed: perform test once\" }]}, config=RunnableConfig(threadId=test1, checkPointId=b9b19829-bb39-45f2-bb05-fb13f24ce1af, nextNode=agent, streamMode=SNAPSHOTS)} \n",
      "STEP: StateSnapshot{node=agent, state={agent_response=The test has been successfully executed with the message \"perform test once.\" How can I assist you further?, messages=[UserMessage { name = null contents = [TextContent { text = \"perform test once\" }] }, AiMessage { text = null toolExecutionRequests = [ToolExecutionRequest { id = \"call_wwsrjq33Z8CU6FDHsq4rSh8s\", name = \"execTest\", arguments = \"{\"message\":\"perform test once\"}\" }] }, ToolExecutionResultMessage { id = \"call_wwsrjq33Z8CU6FDHsq4rSh8s\" toolName = \"execTest\" text = \"test tool executed: perform test once\" }]}, config=RunnableConfig(threadId=test1, checkPointId=c98eb21f-4289-4d2c-827a-41db6f5ad98e, nextNode=__END__, streamMode=SNAPSHOTS)} \n",
      "STEP: NodeOutput{node=__END__, state={agent_response=The test has been successfully executed with the message \"perform test once.\" How can I assist you further?, messages=[UserMessage { name = null contents = [TextContent { text = \"perform test once\" }] }, AiMessage { text = null toolExecutionRequests = [ToolExecutionRequest { id = \"call_wwsrjq33Z8CU6FDHsq4rSh8s\", name = \"execTest\", arguments = \"{\"message\":\"perform test once\"}\" }] }, ToolExecutionResultMessage { id = \"call_wwsrjq33Z8CU6FDHsq4rSh8s\" toolName = \"execTest\" text = \"test tool executed: perform test once\" }]}} \n"
     ]
    }
   ],
   "source": [
    "import dev.langchain4j.data.message.UserMessage;\n",
    "\n",
    "var saver = new MemorySaver();\n",
    "\n",
    "CompileConfig compileConfig = CompileConfig.builder()\n",
    "                .checkpointSaver( saver )\n",
    "                .build();\n",
    "\n",
    "var graph = stateGraph.compile( compileConfig );\n",
    "\n",
    "var config = RunnableConfig.builder()\n",
    "                .threadId(\"test1\")\n",
    "                .build();    \n",
    "                \n",
    "var iterator = graph.streamSnapshots( Map.of( \"messages\", UserMessage.from(\"perform test once\")), config );  \n",
    "\n",
    "for( var step : iterator ) {\n",
    "    log.info( \"STEP: {}\", step );\n",
    "}\n",
    "\n"
   ]
  },
  {
   "cell_type": "code",
   "execution_count": null,
   "metadata": {},
   "outputs": [],
   "source": [
    "import org.bsc.langgraph4j.state.RemoveByHash;\n",
    "\n",
    "var history = graph.getStateHistory(config).stream().collect( Collectors.toList() );\n",
    "\n",
    "for( var snapshot : history ) {\n",
    "    log.info( \"{}\", snapshot );\n",
    "}\n",
    "\n",
    "\n",
    "// var state2 =  history.get(2);\n",
    "\n",
    "// var updatedConfig = graph.updateState( state2.config(), \n",
    "//     Map.of( \"messages\", UserMessage.from(\"perform test twice\")), null);\n",
    "\n",
    "// var iterator = graph.streamSnapshots( null, updatedConfig );  \n",
    "\n",
    "\n",
    "// for( var step : iterator ) {\n",
    "//     log.info( \"STEP:\\n {}\", step );\n",
    "// }\n"
   ]
  },
  {
   "cell_type": "markdown",
   "metadata": {},
   "source": [
    "### Test 2\n",
    "Update State replacing the 'input' using a cloned state"
   ]
  },
  {
   "cell_type": "code",
   "execution_count": 15,
   "metadata": {},
   "outputs": [
    {
     "name": "stderr",
     "output_type": "stream",
     "text": [
      "START \n",
      "callAgent \n",
      "STEP: NodeOutput{node=__START__, state={messages=[UserMessage { name = null contents = [TextContent { text = \"perform test once\" }] }]}} \n",
      "executeTools \n",
      "execute: execTest \n",
      "STEP: StateSnapshot{node=agent, state={messages=[UserMessage { name = null contents = [TextContent { text = \"perform test once\" }] }, AiMessage { text = null toolExecutionRequests = [ToolExecutionRequest { id = \"call_PovthDiWyO2ZMZd5YbZk4Jr2\", name = \"execTest\", arguments = \"{\"message\":\"perform test once\"}\" }] }]}, config=RunnableConfig(threadId=test2, checkPointId=7130b112-f1b6-4031-8814-93e4d63655b9, nextNode=action, streamMode=SNAPSHOTS)} \n",
      "callAgent \n",
      "STEP: StateSnapshot{node=action, state={messages=[UserMessage { name = null contents = [TextContent { text = \"perform test once\" }] }, AiMessage { text = null toolExecutionRequests = [ToolExecutionRequest { id = \"call_PovthDiWyO2ZMZd5YbZk4Jr2\", name = \"execTest\", arguments = \"{\"message\":\"perform test once\"}\" }] }, ToolExecutionResultMessage { id = \"call_PovthDiWyO2ZMZd5YbZk4Jr2\" toolName = \"execTest\" text = \"test tool executed: perform test once\" }]}, config=RunnableConfig(threadId=test2, checkPointId=82adbb05-d7ac-4bd6-a771-a8f2c664b9b7, nextNode=agent, streamMode=SNAPSHOTS)} \n",
      "STEP: StateSnapshot{node=agent, state={agent_response=The test has been executed successfully with the message \"perform test once.\" How can I assist you further?, messages=[UserMessage { name = null contents = [TextContent { text = \"perform test once\" }] }, AiMessage { text = null toolExecutionRequests = [ToolExecutionRequest { id = \"call_PovthDiWyO2ZMZd5YbZk4Jr2\", name = \"execTest\", arguments = \"{\"message\":\"perform test once\"}\" }] }, ToolExecutionResultMessage { id = \"call_PovthDiWyO2ZMZd5YbZk4Jr2\" toolName = \"execTest\" text = \"test tool executed: perform test once\" }]}, config=RunnableConfig(threadId=test2, checkPointId=52f1b4ff-918f-43cc-acc1-a31f6588e595, nextNode=__END__, streamMode=SNAPSHOTS)} \n",
      "STEP: NodeOutput{node=__END__, state={agent_response=The test has been executed successfully with the message \"perform test once.\" How can I assist you further?, messages=[UserMessage { name = null contents = [TextContent { text = \"perform test once\" }] }, AiMessage { text = null toolExecutionRequests = [ToolExecutionRequest { id = \"call_PovthDiWyO2ZMZd5YbZk4Jr2\", name = \"execTest\", arguments = \"{\"message\":\"perform test once\"}\" }] }, ToolExecutionResultMessage { id = \"call_PovthDiWyO2ZMZd5YbZk4Jr2\" toolName = \"execTest\" text = \"test tool executed: perform test once\" }]}} \n"
     ]
    }
   ],
   "source": [
    "\n",
    "var config = RunnableConfig.builder()\n",
    "                .threadId(\"test2\")\n",
    "                .build();    \n",
    "                \n",
    "                \n",
    "var iterator = graph.streamSnapshots( Map.of( \"messages\", UserMessage.from(\"perform test once\") ), config );  \n",
    "\n",
    "for( var step : iterator ) {\n",
    "    log.info( \"STEP: {}\", step );\n",
    "}\n",
    "\n"
   ]
  },
  {
   "cell_type": "code",
   "execution_count": null,
   "metadata": {},
   "outputs": [],
   "source": [
    "var history = graph.getStateHistory(config).stream().collect( Collectors.toList() );\n",
    "\n",
    "var state2 =  history.get(2);\n",
    "\n",
    "var updatedState = new HashMap<String,Object>();\n",
    "updatedState.putAll(state2.state().data());\n",
    "\n",
    "updatedState.put(  \"messages\", UserMessage.from(\"perform test twice\")  );\n",
    "\n",
    "// var updatedConfig = graph.updateState( state2.config(), updatedState );\n",
    "// log.info( \"UPDATED CONFIG: {}\", updatedConfig );\n",
    "\n",
    "// var iterator = graph.streamSnapshots( null, updatedConfig );  \n",
    "\n",
    "// for( var step : iterator ) {\n",
    "//     log.info( \"STEP:\\n {}\", step );\n",
    "// }    \n"
   ]
  }
 ],
 "metadata": {
  "kernelspec": {
   "display_name": "Java (rjk 2.2.0)",
   "language": "java",
   "name": "rapaio-jupyter-kernel"
  },
  "language_info": {
   "codemirror_mode": "java",
   "file_extension": ".jshell",
   "mimetype": "text/x-java-source",
   "name": "java",
   "nbconvert_exporter": "script",
   "pygments_lexer": "java",
   "version": "17.0.2+8-86"
  }
 },
 "nbformat": 4,
 "nbformat_minor": 2
}
